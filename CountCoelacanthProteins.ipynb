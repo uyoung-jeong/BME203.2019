{
  "nbformat": 4,
  "nbformat_minor": 0,
  "metadata": {
    "colab": {
      "name": "CountCoelacanthProteins.ipynb",
      "version": "0.3.2",
      "provenance": [],
      "collapsed_sections": [],
      "include_colab_link": true
    },
    "kernelspec": {
      "name": "python3",
      "display_name": "Python 3"
    }
  },
  "cells": [
    {
      "cell_type": "markdown",
      "metadata": {
        "id": "view-in-github",
        "colab_type": "text"
      },
      "source": [
        "<a href=\"https://colab.research.google.com/github/taejoonlab/BME203.2019/blob/master/CountCoelacanthProteins.ipynb\" target=\"_parent\"><img src=\"https://colab.research.google.com/assets/colab-badge.svg\" alt=\"Open In Colab\"/></a>"
      ]
    },
    {
      "metadata": {
        "id": "v8viQM5uwd2P",
        "colab_type": "text"
      },
      "cell_type": "markdown",
      "source": [
        "# How many protein sequences are available for Coelacanth? \n",
        "\n",
        "---\n",
        "\n",
        "* http://ftp.ensemblorg.ebi.ac.uk/pub/release-95/fasta/latimeria_chalumnae/pep/\n",
        "* Download the sequence with wget"
      ]
    },
    {
      "metadata": {
        "id": "zC330OrVwcda",
        "colab_type": "code",
        "outputId": "9d5bc00f-d8fb-4235-8092-15f3b71b859e",
        "colab": {
          "base_uri": "https://localhost:8080/",
          "height": 209
        }
      },
      "cell_type": "code",
      "source": [
        "!wget http://ftp.ensemblorg.ebi.ac.uk/pub/release-95/fasta/latimeria_chalumnae/pep/Latimeria_chalumnae.LatCha1.pep.all.fa.gz"
      ],
      "execution_count": 0,
      "outputs": [
        {
          "output_type": "stream",
          "text": [
            "--2019-02-28 02:52:37--  http://ftp.ensemblorg.ebi.ac.uk/pub/release-95/fasta/latimeria_chalumnae/pep/Latimeria_chalumnae.LatCha1.pep.all.fa.gz\n",
            "Resolving ftp.ensemblorg.ebi.ac.uk (ftp.ensemblorg.ebi.ac.uk)... 193.62.193.8\n",
            "Connecting to ftp.ensemblorg.ebi.ac.uk (ftp.ensemblorg.ebi.ac.uk)|193.62.193.8|:80... connected.\n",
            "HTTP request sent, awaiting response... 200 OK\n",
            "Length: 7839992 (7.5M) [application/x-gzip]\n",
            "Saving to: ‘Latimeria_chalumnae.LatCha1.pep.all.fa.gz’\n",
            "\n",
            "Latimeria_chalumnae 100%[===================>]   7.48M   486KB/s    in 16s     \n",
            "\n",
            "2019-02-28 02:52:54 (467 KB/s) - ‘Latimeria_chalumnae.LatCha1.pep.all.fa.gz’ saved [7839992/7839992]\n",
            "\n"
          ],
          "name": "stdout"
        }
      ]
    },
    {
      "metadata": {
        "id": "4tTU-2K7xD4S",
        "colab_type": "code",
        "outputId": "38d7ec7a-1931-433f-8f30-160aa3b58d90",
        "colab": {
          "base_uri": "https://localhost:8080/",
          "height": 34
        }
      },
      "cell_type": "code",
      "source": [
        "!ls"
      ],
      "execution_count": 0,
      "outputs": [
        {
          "output_type": "stream",
          "text": [
            "Latimeria_chalumnae.LatCha1.pep.all.fa.gz  sample_data\n"
          ],
          "name": "stdout"
        }
      ]
    },
    {
      "metadata": {
        "id": "BjkamNTnCL8Z",
        "colab_type": "code",
        "outputId": "5bedd8fe-bd3b-4074-f7f3-4690a912c688",
        "colab": {
          "base_uri": "https://localhost:8080/",
          "height": 34
        }
      },
      "cell_type": "code",
      "source": [
        "import gzip\n",
        "filename_fa = 'Latimeria_chalumnae.LatCha1.pep.all.fa.gz'\n",
        "\n",
        "count_proteins = 0\n",
        "f_fa = gzip.open(filename_fa, 'rt')\n",
        "for line in f_fa:\n",
        "  if line.startswith('>'):\n",
        "    count_proteins += 1\n",
        "f_fa.close()\n",
        "\n",
        "print(\"Number of proteins: %d\" % count_proteins)"
      ],
      "execution_count": 0,
      "outputs": [
        {
          "output_type": "stream",
          "text": [
            "Number of proteins: 23601\n"
          ],
          "name": "stdout"
        }
      ]
    },
    {
      "metadata": {
        "id": "j5X4rWKPBZ7S",
        "colab_type": "code",
        "outputId": "0afac48d-3891-4490-a328-0d6be5cb3eae",
        "colab": {
          "base_uri": "https://localhost:8080/",
          "height": 72
        }
      },
      "cell_type": "code",
      "source": [
        "# Find HOXD protein\n",
        "\n",
        "import gzip\n",
        "filename_fa = 'Latimeria_chalumnae.LatCha1.pep.all.fa.gz'\n",
        "\n",
        "count_proteins = 0\n",
        "f_fa = gzip.open(filename_fa, 'rt')\n",
        "for line in f_fa:\n",
        "  if line.startswith('>'):\n",
        "    if line.find('gene_symbol:HOXD') >= 0:\n",
        "      print(line)\n",
        "      break\n",
        "f_fa.close()"
      ],
      "execution_count": 0,
      "outputs": [
        {
          "output_type": "stream",
          "text": [
            ">ENSLACP00000009228.1 pep scaffold:LatCha1:JH127184.1:323332:324527:-1 gene:ENSLACG00000008144.1 transcript:ENSLACT00000009299.1 gene_biotype:protein_coding transcript_biotype:protein_coding gene_symbol:HOXD1 description:homeobox D1 [Source:NCBI gene;Acc:102350720]\n",
            "\n"
          ],
          "name": "stdout"
        }
      ]
    }
  ]
}