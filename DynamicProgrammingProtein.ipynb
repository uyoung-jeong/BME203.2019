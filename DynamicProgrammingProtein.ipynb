{
  "nbformat": 4,
  "nbformat_minor": 0,
  "metadata": {
    "colab": {
      "name": "DynamicProgrammingProtein.ipynb",
      "version": "0.3.2",
      "provenance": [],
      "include_colab_link": true
    },
    "kernelspec": {
      "name": "python3",
      "display_name": "Python 3"
    }
  },
  "cells": [
    {
      "cell_type": "markdown",
      "metadata": {
        "id": "view-in-github",
        "colab_type": "text"
      },
      "source": [
        "<a href=\"https://colab.research.google.com/github/taejoonlab/BME203.2019/blob/master/DynamicProgrammingProtein.ipynb\" target=\"_parent\"><img src=\"https://colab.research.google.com/assets/colab-badge.svg\" alt=\"Open In Colab\"/></a>"
      ]
    },
    {
      "metadata": {
        "id": "fcclLCp5mXRF",
        "colab_type": "text"
      },
      "cell_type": "markdown",
      "source": [
        "# Protein alignment example from Durbin, et al. (1998)"
      ]
    },
    {
      "metadata": {
        "id": "5T9F6ww1le_3",
        "colab_type": "code",
        "colab": {
          "base_uri": "https://localhost:8080/",
          "height": 253
        },
        "outputId": "e938a721-9721-4d18-bfc4-690d9928c49d"
      },
      "cell_type": "code",
      "source": [
        "# Download the scoring matrix \n",
        "!wget https://raw.githubusercontent.com/taejoonlab/BME203.2019/master/data/BLOSUM62.txt\n",
        "!ls"
      ],
      "execution_count": 6,
      "outputs": [
        {
          "output_type": "stream",
          "text": [
            "--2019-03-07 03:03:47--  https://raw.githubusercontent.com/taejoonlab/BME203.2019/master/data/BLOSUM62.txt\n",
            "Resolving raw.githubusercontent.com (raw.githubusercontent.com)... 151.101.0.133, 151.101.64.133, 151.101.128.133, ...\n",
            "Connecting to raw.githubusercontent.com (raw.githubusercontent.com)|151.101.0.133|:443... connected.\n",
            "HTTP request sent, awaiting response... 200 OK\n",
            "Length: 2122 (2.1K) [text/plain]\n",
            "Saving to: ‘BLOSUM62.txt’\n",
            "\n",
            "\rBLOSUM62.txt          0%[                    ]       0  --.-KB/s               \rBLOSUM62.txt        100%[===================>]   2.07K  --.-KB/s    in 0s      \n",
            "\n",
            "2019-03-07 03:03:48 (52.0 MB/s) - ‘BLOSUM62.txt’ saved [2122/2122]\n",
            "\n",
            "BLOSUM62.txt  sample_data\n"
          ],
          "name": "stdout"
        }
      ]
    },
    {
      "metadata": {
        "id": "dYMmSyd6oqPP",
        "colab_type": "code",
        "colab": {}
      },
      "cell_type": "code",
      "source": [
        "# Check the matrix\n",
        "!head -n 20 BLOSUM62.txt\n",
        "!tail -n 5 BLOSUM62.txt"
      ],
      "execution_count": 0,
      "outputs": []
    },
    {
      "metadata": {
        "id": "ODW4rUiiof8B",
        "colab_type": "code",
        "colab": {
          "base_uri": "https://localhost:8080/",
          "height": 35
        },
        "outputId": "e4442e9b-c4d9-4bb8-8784-5bf91e96e710"
      },
      "cell_type": "code",
      "source": [
        "# Prepare the scoring matrix 'scores'\n",
        "\n",
        "scores = dict()\n",
        "\n",
        "f_mat = open('BLOSUM62.txt', 'r')\n",
        "aa_tokens = []\n",
        "for line in f_mat:\n",
        "  if line.startswith('#'):\n",
        "    continue\n",
        "  elif line.startswith(' '):\n",
        "    aa_tokens = line.strip().split()\n",
        "  else:\n",
        "    tmp_tokens = line.strip().split()\n",
        "    for i in range(1, len(tmp_tokens)):\n",
        "      scores['%s%s' % (aa_tokens[i-1], tmp_tokens[0])] = int(tmp_tokens[i])\n",
        "f_mat.close()\n",
        "\n",
        "print(scores['AA'], scores['A*'], scores['WW'])"
      ],
      "execution_count": 7,
      "outputs": [
        {
          "output_type": "stream",
          "text": [
            "4 -4 11\n"
          ],
          "name": "stdout"
        }
      ]
    },
    {
      "metadata": {
        "id": "sp208CjWmg76",
        "colab_type": "code",
        "colab": {
          "base_uri": "https://localhost:8080/",
          "height": 305
        },
        "outputId": "ea79ee9a-29db-4c3d-defc-7be5b9848f0a"
      },
      "cell_type": "code",
      "source": [
        "# Prepare the input sequences\n",
        "seq1 = 'HEAGAWGHEE'\n",
        "seq2 = 'PAWHEAE'\n",
        "\n",
        "# Prepare the matrix for (1) score and (2) directionality\n",
        "score_matrix = []\n",
        "direction_matrix = []\n",
        "\n",
        "for i in range(0, len(seq2)+1):\n",
        "  tmp_score_list = []\n",
        "  tmp_direction_list = []\n",
        "  for j in range(0, len(seq1)+1):\n",
        "    tmp_score_list.append(0)\n",
        "    tmp_direction_list.append('N')\n",
        "  score_matrix.append(tmp_score_list)\n",
        "  direction_matrix.append(tmp_direction_list)\n",
        "\n",
        "# Beautify the matrix output\n",
        "def print_str_matrix(tmp_mat):\n",
        "  for tmp_line in tmp_mat:\n",
        "    print(\" \".join([x.ljust(3, ' ') for x in tmp_line]))\n",
        "\n",
        "def print_matrix(tmp_mat):\n",
        "  for tmp_line in tmp_mat:\n",
        "    print(tmp_line)\n",
        "\n",
        "    \n",
        "print_matrix(score_matrix)\n",
        "print_str_matrix(direction_matrix)"
      ],
      "execution_count": 12,
      "outputs": [
        {
          "output_type": "stream",
          "text": [
            "[0, 0, 0, 0, 0, 0, 0, 0, 0, 0, 0]\n",
            "[0, 0, 0, 0, 0, 0, 0, 0, 0, 0, 0]\n",
            "[0, 0, 0, 0, 0, 0, 0, 0, 0, 0, 0]\n",
            "[0, 0, 0, 0, 0, 0, 0, 0, 0, 0, 0]\n",
            "[0, 0, 0, 0, 0, 0, 0, 0, 0, 0, 0]\n",
            "[0, 0, 0, 0, 0, 0, 0, 0, 0, 0, 0]\n",
            "[0, 0, 0, 0, 0, 0, 0, 0, 0, 0, 0]\n",
            "[0, 0, 0, 0, 0, 0, 0, 0, 0, 0, 0]\n",
            "N   N   N   N   N   N   N   N   N   N   N  \n",
            "N   N   N   N   N   N   N   N   N   N   N  \n",
            "N   N   N   N   N   N   N   N   N   N   N  \n",
            "N   N   N   N   N   N   N   N   N   N   N  \n",
            "N   N   N   N   N   N   N   N   N   N   N  \n",
            "N   N   N   N   N   N   N   N   N   N   N  \n",
            "N   N   N   N   N   N   N   N   N   N   N  \n",
            "N   N   N   N   N   N   N   N   N   N   N  \n"
          ],
          "name": "stdout"
        }
      ]
    },
    {
      "metadata": {
        "id": "ok-aoem_mlr0",
        "colab_type": "code",
        "colab": {
          "base_uri": "https://localhost:8080/",
          "height": 341
        },
        "outputId": "af49a9e2-96fb-4d7c-a343-54b1c0c8ff99"
      },
      "cell_type": "code",
      "source": [
        "# Fill the matrix\n",
        "\n",
        "for j in range(0, len(seq2)+1):\n",
        "  for i in range(0, len(seq1)+1):\n",
        "    if i == 0 and j == 0:\n",
        "      score_matrix[i][j] = 0\n",
        "    elif i == 0:\n",
        "      # First column\n",
        "      tmp_aa = '%s%s' % ('*', seq2[j-1])\n",
        "      score_matrix[j][i] = score_matrix[j-1][i] + scores[tmp_aa]\n",
        "      direction_matrix[j][i] = 'T'\n",
        "    elif j == 0:\n",
        "      # First row\n",
        "      tmp_aa = '%s%s' % (seq1[i-1], '*')\n",
        "      score_matrix[j][i] = score_matrix[j][i-1] + scores[tmp_aa]\n",
        "      direction_matrix[j][i] = 'L'\n",
        "    else:\n",
        "      # For score\n",
        "      tmp_aa_L = '%s%s' % (seq1[i-1], '*')\n",
        "      tmp_score_L = score_matrix[j][i-1] + scores[tmp_aa_L]\n",
        "      tmp_aa_T = '%s%s' % ('*', seq2[j-1])\n",
        "      tmp_score_T = score_matrix[j-1][i] + scores[tmp_aa_T]\n",
        "      tmp_aa_D = '%s%s' % (seq1[i-1], seq2[j-1])\n",
        "      tmp_score_D = score_matrix[j-1][i-1] + scores[tmp_aa_D]\n",
        "      \n",
        "      max_score = max([tmp_score_L, tmp_score_T, tmp_score_D])\n",
        "      score_matrix[j][i] = max_score\n",
        "      \n",
        "      # For direction\n",
        "      tmp_direction = ''\n",
        "      if max_score == tmp_score_L:\n",
        "        tmp_direction += 'L'\n",
        "      elif max_score == tmp_score_T:\n",
        "        tmp_direction += 'T'\n",
        "      if max_score == tmp_score_D:\n",
        "        tmp_direction += 'D'\n",
        "      direction_matrix[j][i] = tmp_direction\n",
        "\n",
        "print(\"Score Matrix\")\n",
        "print_matrix(score_matrix)\n",
        "\n",
        "print(\"Direction Matrix\")\n",
        "print_str_matrix(direction_matrix)"
      ],
      "execution_count": 13,
      "outputs": [
        {
          "output_type": "stream",
          "text": [
            "Score Matrix\n",
            "[0, -4, -8, -12, -16, -20, -24, -28, -32, -36, -40]\n",
            "[-4, -2, -5, -9, -13, -17, -21, -25, -29, -33, -37]\n",
            "[-8, -6, -3, -1, -5, -9, -13, -17, -21, -25, -29]\n",
            "[-12, -10, -7, -5, -3, -7, 2, -2, -6, -10, -14]\n",
            "[-16, -4, -8, -9, -7, -5, -2, 0, 6, 2, -2]\n",
            "[-20, -8, 1, -3, -7, -8, -6, -4, 2, 11, 7]\n",
            "[-24, -12, -3, 5, 1, -3, -7, -6, -2, 7, 10]\n",
            "[-28, -16, -7, 1, 3, 0, -4, -8, -6, 3, 12]\n",
            "Direction Matrix\n",
            "N   L   L   L   L   L   L   L   L   L   L  \n",
            "T   D   D   LD  L   LD  L   L   L   LD  LD \n",
            "T   TD  D   D   L   LD  L   L   L   L   L  \n",
            "T   TD  T   T   D   L   D   L   L   L   L  \n",
            "T   D   L   TD  TD  D   T   D   D   L   L  \n",
            "T   T   D   L   L   D   T   TD  T   D   LD \n",
            "T   T   T   D   L   LD  L   D   T   T   D  \n",
            "T   T   TD  T   D   D   L   L   TD  TD  D  \n"
          ],
          "name": "stdout"
        }
      ]
    }
  ]
}