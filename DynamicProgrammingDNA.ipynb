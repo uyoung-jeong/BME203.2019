{
  "nbformat": 4,
  "nbformat_minor": 0,
  "metadata": {
    "colab": {
      "name": "DynamicProgrammingDNA.ipynb",
      "version": "0.3.2",
      "provenance": [],
      "collapsed_sections": [],
      "include_colab_link": true
    },
    "kernelspec": {
      "name": "python3",
      "display_name": "Python 3"
    }
  },
  "cells": [
    {
      "cell_type": "markdown",
      "metadata": {
        "id": "view-in-github",
        "colab_type": "text"
      },
      "source": [
        "<a href=\"https://colab.research.google.com/github/taejoonlab/BME203.2019/blob/master/DynamicProgrammingDNA.ipynb\" target=\"_parent\"><img src=\"https://colab.research.google.com/assets/colab-badge.svg\" alt=\"Open In Colab\"/></a>"
      ]
    },
    {
      "metadata": {
        "id": "gSS4k-RCTjIP",
        "colab_type": "text"
      },
      "cell_type": "markdown",
      "source": [
        "# DNA alignment example from Eddy, \"What is Dynamic Programming\", Nature Biotech.(2004)"
      ]
    },
    {
      "metadata": {
        "id": "IhXNXIsdRgly",
        "colab_type": "code",
        "colab": {}
      },
      "cell_type": "code",
      "source": [
        "# Prepare the input sequences\n",
        "seq1 = 'TGCTCGTA'\n",
        "seq2 = 'TTCATA'\n",
        "\n",
        "# Prepare the matrix for (1) score and (2) directionality\n",
        "score_matrix = []\n",
        "direction_matrix = []\n",
        "\n",
        "for i in range(0, len(seq2)+1):\n",
        "  tmp_score_list = []\n",
        "  tmp_direction_list = []\n",
        "  for j in range(0, len(seq1)+1):\n",
        "    tmp_score_list.append(0)\n",
        "    tmp_direction_list.append('N')\n",
        "  score_matrix.append(tmp_score_list)\n",
        "  direction_matrix.append(tmp_direction_list)\n",
        "\n",
        "# Beautify the matrix output\n",
        "def print_matrix(tmp_mat):\n",
        "  for tmp_line in tmp_mat:\n",
        "    print(tmp_line)\n",
        "\n",
        "print_matrix(score_matrix)\n",
        "print_matrix(direction_matrix)"
      ],
      "execution_count": 0,
      "outputs": []
    },
    {
      "metadata": {
        "id": "eTcSP9o_WSDI",
        "colab_type": "code",
        "colab": {}
      },
      "cell_type": "code",
      "source": [
        "# Fill the matrix\n",
        "\n",
        "score_match = +5\n",
        "score_mismatch = -2\n",
        "score_gap = -6\n",
        "\n",
        "for j in range(0, len(seq2)+1):\n",
        "  for i in range(0, len(seq1)+1):\n",
        "    if i == 0 and j == 0:\n",
        "      score_matrix[i][j] = 0\n",
        "    elif i == 0:\n",
        "      # First column\n",
        "      score_matrix[j][i] = score_matrix[j-1][i] + score_gap\n",
        "      direction_matrix[j][i] = 'T'\n",
        "    elif j == 0:\n",
        "      # First row\n",
        "      score_matrix[j][i] = score_matrix[j][i-1] + score_gap\n",
        "      direction_matrix[j][i] = 'L'\n",
        "    else:\n",
        "      # For score\n",
        "      tmp_match_score = score_mismatch\n",
        "      if seq1[i-1] == seq2[j-1]:\n",
        "        tmp_match_score = score_match  \n",
        "      max_score = max([score_matrix[j][i-1]+score_gap, \n",
        "                       score_matrix[j-1][i-1]+tmp_match_score, \n",
        "                       score_matrix[j-1][i]+score_gap])\n",
        "      score_matrix[j][i] = max_score\n",
        "      \n",
        "      # For direction\n",
        "      tmp_direction = ''\n",
        "      if max_score == score_matrix[j][i-1] + score_gap:\n",
        "        tmp_direction += 'L'\n",
        "      elif max_score == score_matrix[j-1][i] + score_gap:\n",
        "        tmp_direction += 'T'\n",
        "      if max_score == score_matrix[j-1][i-1] + tmp_match_score:\n",
        "        tmp_direction += 'D'\n",
        "      direction_matrix[j][i] = tmp_direction\n",
        "\n",
        "print(\"Score Matrix\")\n",
        "print_matrix(score_matrix)\n",
        "\n",
        "print(\"Direction Matrix\")\n",
        "print_matrix(direction_matrix)\n",
        "      "
      ],
      "execution_count": 0,
      "outputs": []
    }
  ]
}